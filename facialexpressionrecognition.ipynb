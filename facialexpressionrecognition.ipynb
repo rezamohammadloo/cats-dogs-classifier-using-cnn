{
 "cells": [
  {
   "cell_type": "code",
   "execution_count": 1,
   "id": "7008fe71",
   "metadata": {
    "execution": {
     "iopub.execute_input": "2024-02-18T06:29:38.354975Z",
     "iopub.status.busy": "2024-02-18T06:29:38.354564Z",
     "iopub.status.idle": "2024-02-18T06:29:38.365723Z",
     "shell.execute_reply": "2024-02-18T06:29:38.364849Z"
    },
    "papermill": {
     "duration": 0.020035,
     "end_time": "2024-02-18T06:29:38.367656",
     "exception": false,
     "start_time": "2024-02-18T06:29:38.347621",
     "status": "completed"
    },
    "tags": []
   },
   "outputs": [],
   "source": [
    "#main directories\n",
    "train_dir = '/kaggle/input/fer2013/train'\n",
    "test_dir  = '/kaggle/input/fer2013/test'"
   ]
  },
  {
   "cell_type": "code",
   "execution_count": 2,
   "id": "6d56b429",
   "metadata": {
    "execution": {
     "iopub.execute_input": "2024-02-18T06:29:38.378425Z",
     "iopub.status.busy": "2024-02-18T06:29:38.377858Z",
     "iopub.status.idle": "2024-02-18T06:29:41.759786Z",
     "shell.execute_reply": "2024-02-18T06:29:41.758664Z"
    },
    "papermill": {
     "duration": 3.389366,
     "end_time": "2024-02-18T06:29:41.761918",
     "exception": false,
     "start_time": "2024-02-18T06:29:38.372552",
     "status": "completed"
    },
    "tags": []
   },
   "outputs": [
    {
     "name": "stdout",
     "output_type": "stream",
     "text": [
      "class labels:['surprise', 'fear', 'angry', 'neutral', 'sad', 'disgust', 'happy']\n",
      "\n",
      "number of train images in class surprise is: 3171\n",
      "number of test  images in class surprise is: 831\n",
      "\n",
      "number of train images in class fear is: 4097\n",
      "number of test  images in class fear is: 1024\n",
      "\n",
      "number of train images in class angry is: 3995\n",
      "number of test  images in class angry is: 958\n",
      "\n",
      "number of train images in class neutral is: 4965\n",
      "number of test  images in class neutral is: 1233\n",
      "\n",
      "number of train images in class sad is: 4830\n",
      "number of test  images in class sad is: 1247\n",
      "\n",
      "number of train images in class disgust is: 436\n",
      "number of test  images in class disgust is: 111\n",
      "\n",
      "number of train images in class happy is: 7215\n",
      "number of test  images in class happy is: 1774\n"
     ]
    }
   ],
   "source": [
    "import os\n",
    "#analyzing our data\n",
    "lable_names = os.listdir(train_dir)\n",
    "print(f'class labels:{lable_names}')\n",
    "\n",
    "for i in lable_names:\n",
    "  print(f'\\nnumber of train images in class {i} is: {len(os.listdir(os.path.join(train_dir, i)))}')\n",
    "  print(f'number of test  images in class {i} is: {len(os.listdir(os.path.join(test_dir, i)))}')"
   ]
  },
  {
   "cell_type": "code",
   "execution_count": 3,
   "id": "81e3dcfe",
   "metadata": {
    "execution": {
     "iopub.execute_input": "2024-02-18T06:29:41.774829Z",
     "iopub.status.busy": "2024-02-18T06:29:41.774511Z",
     "iopub.status.idle": "2024-02-18T06:29:42.821759Z",
     "shell.execute_reply": "2024-02-18T06:29:42.820868Z"
    },
    "papermill": {
     "duration": 1.056147,
     "end_time": "2024-02-18T06:29:42.824037",
     "exception": false,
     "start_time": "2024-02-18T06:29:41.767890",
     "status": "completed"
    },
    "tags": []
   },
   "outputs": [
    {
     "data": {
      "text/plain": [
       "<Axes: >"
      ]
     },
     "execution_count": 3,
     "metadata": {},
     "output_type": "execute_result"
    },
    {
     "data": {
      "text/plain": [
       "<Figure size 1500x1000 with 0 Axes>"
      ]
     },
     "metadata": {},
     "output_type": "display_data"
    },
    {
     "data": {
      "image/png": "[encoded data removed]",
      "text/plain": [
       "<Figure size 640x480 with 1 Axes>"
      ]
     },
     "metadata": {},
     "output_type": "display_data"
    }
   ],
   "source": [
    "import pandas as pd\n",
    "import matplotlib.pyplot as plt\n",
    "dict = {}\n",
    "for i in lable_names:\n",
    "  dict.update(({i:[ len(os.listdir(os.path.join(train_dir, i))) , len(os.listdir(os.path.join(test_dir, i)))]}))\n",
    "\n",
    "df = pd.DataFrame(dict).T\n",
    "df.columns = ['train number', 'test number']\n",
    "\n",
    "plt.figure(figsize = (15,10))\n",
    "df.plot(kind = 'bar' )"
   ]
  },
  {
   "cell_type": "markdown",
   "id": "2270982d",
   "metadata": {
    "papermill": {
     "duration": 0.006174,
     "end_time": "2024-02-18T06:29:42.836893",
     "exception": false,
     "start_time": "2024-02-18T06:29:42.830719",
     "status": "completed"
    },
    "tags": []
   },
   "source": [
    "not so much balanced!"
   ]
  },
  {
   "cell_type": "code",
   "execution_count": 4,
   "id": "25d0922e",
   "metadata": {
    "collapsed": true,
    "execution": {
     "iopub.execute_input": "2024-02-18T06:29:42.851323Z",
     "iopub.status.busy": "2024-02-18T06:29:42.850631Z",
     "iopub.status.idle": "2024-02-18T06:29:56.667175Z",
     "shell.execute_reply": "2024-02-18T06:29:56.666298Z"
    },
    "jupyter": {
     "outputs_hidden": true
    },
    "papermill": {
     "duration": 13.826564,
     "end_time": "2024-02-18T06:29:56.669661",
     "exception": false,
     "start_time": "2024-02-18T06:29:42.843097",
     "status": "completed"
    },
    "tags": []
   },
   "outputs": [
    {
     "name": "stderr",
     "output_type": "stream",
     "text": [
      "2024-02-18 06:29:44.623089: E external/local_xla/xla/stream_executor/cuda/cuda_dnn.cc:9261] Unable to register cuDNN factory: Attempting to register factory for plugin cuDNN when one has already been registered\n",
      "2024-02-18 06:29:44.623220: E external/local_xla/xla/stream_executor/cuda/cuda_fft.cc:607] Unable to register cuFFT factory: Attempting to register factory for plugin cuFFT when one has already been registered\n",
      "2024-02-18 06:29:44.755581: E external/local_xla/xla/stream_executor/cuda/cuda_blas.cc:1515] Unable to register cuBLAS factory: Attempting to register factory for plugin cuBLAS when one has already been registered\n"
     ]
    }
   ],
   "source": [
    "import tensorflow as tf\n",
    "model = tf.keras.models.Sequential([\n",
    "    #first conv layer\n",
    "    tf.keras.layers.Conv2D(16, (3,3), activation='relu', input_shape=(48, 48, 3)),#, input_shape=(48, 48, 3)\n",
    "    tf.keras.layers.BatchNormalization(),\n",
    "    tf.keras.layers.MaxPooling2D(pool_size = (2, 2), strides = (2, 2)),\n",
    "    tf.keras.layers.Dropout(0.1),\n",
    "\n",
    "    #second conv layer\n",
    "    tf.keras.layers.Conv2D(32, (3,3), activation='relu'),\n",
    "    tf.keras.layers.BatchNormalization(),\n",
    "    tf.keras.layers.MaxPooling2D(pool_size = (2, 2), strides = (2, 2)),\n",
    "    tf.keras.layers.Dropout(0.2),\n",
    "    \n",
    "    #third conv layer\n",
    "    tf.keras.layers.Conv2D(64, (3,3), activation='relu'),\n",
    "    tf.keras.layers.BatchNormalization(),\n",
    "    tf.keras.layers.MaxPooling2D(pool_size = (2, 2), strides = (2, 2)),\n",
    "    tf.keras.layers.Dropout(0.2),\n",
    "\n",
    "\n",
    "    tf.keras.layers.Flatten(),\n",
    "\n",
    "    tf.keras.layers.Dense(512, activation='relu'),\n",
    "    tf.keras.layers.Dropout(0.2),\n",
    "\n",
    "    tf.keras.layers.Dense(256, activation='relu'),\n",
    "    tf.keras.layers.Dropout(0.1),\n",
    "\n",
    "    tf.keras.layers.Dense(7, activation='softmax')\n",
    "])\n",
    "\n",
    "\n",
    "model.compile(optimizer = 'adam' , loss = 'categorical_crossentropy', metrics=[\"accuracy\"])"
   ]
  },
  {
   "cell_type": "code",
   "execution_count": 5,
   "id": "3e78afd3",
   "metadata": {
    "execution": {
     "iopub.execute_input": "2024-02-18T06:29:56.683986Z",
     "iopub.status.busy": "2024-02-18T06:29:56.683642Z",
     "iopub.status.idle": "2024-02-18T06:29:56.731870Z",
     "shell.execute_reply": "2024-02-18T06:29:56.730913Z"
    },
    "papermill": {
     "duration": 0.071045,
     "end_time": "2024-02-18T06:29:56.747393",
     "exception": false,
     "start_time": "2024-02-18T06:29:56.676348",
     "status": "completed"
    },
    "tags": []
   },
   "outputs": [
    {
     "name": "stdout",
     "output_type": "stream",
     "text": [
      "Model: \"sequential\"\n",
      "_________________________________________________________________\n",
      " Layer (type)                Output Shape              Param #   \n",
      "=================================================================\n",
      " conv2d (Conv2D)             (None, 46, 46, 16)        448       \n",
      "                                                                 \n",
      " batch_normalization (Batch  (None, 46, 46, 16)        64        \n",
      " Normalization)                                                  \n",
      "                                                                 \n",
      " max_pooling2d (MaxPooling2  (None, 23, 23, 16)        0         \n",
      " D)                                                              \n",
      "                                                                 \n",
      " dropout (Dropout)           (None, 23, 23, 16)        0         \n",
      "                                                                 \n",
      " conv2d_1 (Conv2D)           (None, 21, 21, 32)        4640      \n",
      "                                                                 \n",
      " batch_normalization_1 (Bat  (None, 21, 21, 32)        128       \n",
      " chNormalization)                                                \n",
      "                                                                 \n",
      " max_pooling2d_1 (MaxPoolin  (None, 10, 10, 32)        0         \n",
      " g2D)                                                            \n",
      "                                                                 \n",
      " dropout_1 (Dropout)         (None, 10, 10, 32)        0         \n",
      "                                                                 \n",
      " conv2d_2 (Conv2D)           (None, 8, 8, 64)          18496     \n",
      "                                                                 \n",
      " batch_normalization_2 (Bat  (None, 8, 8, 64)          256       \n",
      " chNormalization)                                                \n",
      "                                                                 \n",
      " max_pooling2d_2 (MaxPoolin  (None, 4, 4, 64)          0         \n",
      " g2D)                                                            \n",
      "                                                                 \n",
      " dropout_2 (Dropout)         (None, 4, 4, 64)          0         \n",
      "                                                                 \n",
      " flatten (Flatten)           (None, 1024)              0         \n",
      "                                                                 \n",
      " dense (Dense)               (None, 512)               524800    \n",
      "                                                                 \n",
      " dropout_3 (Dropout)         (None, 512)               0         \n",
      "                                                                 \n",
      " dense_1 (Dense)             (None, 256)               131328    \n",
      "                                                                 \n",
      " dropout_4 (Dropout)         (None, 256)               0         \n",
      "                                                                 \n",
      " dense_2 (Dense)             (None, 7)                 1799      \n",
      "                                                                 \n",
      "=================================================================\n",
      "Total params: 681959 (2.60 MB)\n",
      "Trainable params: 681735 (2.60 MB)\n",
      "Non-trainable params: 224 (896.00 Byte)\n",
      "_________________________________________________________________\n"
     ]
    }
   ],
   "source": [
    "model.summary()"
   ]
  },
  {
   "cell_type": "code",
   "execution_count": 6,
   "id": "bb887061",
   "metadata": {
    "execution": {
     "iopub.execute_input": "2024-02-18T06:29:56.770234Z",
     "iopub.status.busy": "2024-02-18T06:29:56.769385Z",
     "iopub.status.idle": "2024-02-18T06:30:26.000036Z",
     "shell.execute_reply": "2024-02-18T06:30:25.999219Z"
    },
    "papermill": {
     "duration": 29.244578,
     "end_time": "2024-02-18T06:30:26.002195",
     "exception": false,
     "start_time": "2024-02-18T06:29:56.757617",
     "status": "completed"
    },
    "tags": []
   },
   "outputs": [
    {
     "name": "stdout",
     "output_type": "stream",
     "text": [
      "Found 28709 images belonging to 7 classes.\n",
      "Found 7178 images belonging to 7 classes.\n"
     ]
    }
   ],
   "source": [
    "from tensorflow.keras.preprocessing.image import ImageDataGenerator\n",
    "# All images will be rescaled by 1./255\n",
    "train_datagen = ImageDataGenerator(rescale=1./255)\n",
    "\n",
    "test_datagen  = ImageDataGenerator(rescale=1./255)\n",
    "\n",
    "# Flow training images in batches of 64 using train_datagen generator\n",
    "train_generator = train_datagen.flow_from_directory(\n",
    "        train_dir,  # This is the source directory for training images\n",
    "        target_size=(48, 48),  # All images will be resized to 48x48\n",
    "        batch_size=64,\n",
    "        class_mode='categorical',# Since we use categorical_crossentropy loss, we need categorical labels\n",
    "        shuffle = False)\n",
    "\n",
    "\n",
    "# Flow validation images in batches of 64 using test_datagen generator\n",
    "validation_generator = test_datagen.flow_from_directory(\n",
    "        test_dir,\n",
    "        target_size=(48, 48),\n",
    "        batch_size=64,\n",
    "        class_mode='categorical',\n",
    "        shuffle = False)"
   ]
  },
  {
   "cell_type": "code",
   "execution_count": 7,
   "id": "0d0e42b1",
   "metadata": {
    "execution": {
     "iopub.execute_input": "2024-02-18T06:30:26.025306Z",
     "iopub.status.busy": "2024-02-18T06:30:26.024661Z",
     "iopub.status.idle": "2024-02-18T06:30:26.723990Z",
     "shell.execute_reply": "2024-02-18T06:30:26.722780Z"
    },
    "papermill": {
     "duration": 0.713488,
     "end_time": "2024-02-18T06:30:26.726307",
     "exception": false,
     "start_time": "2024-02-18T06:30:26.012819",
     "status": "completed"
    },
    "tags": []
   },
   "outputs": [],
   "source": [
    "#setting different weights for different classes because of imbalanced data\n",
    "from sklearn.utils.class_weight import compute_class_weight\n",
    "\n",
    "\n",
    "# \"If ‘balanced’, class weights will be given by n_samples / (n_classes * np.bincount(y)).\"\n",
    "class_weights = compute_class_weight(\"balanced\", classes=train_generator.classes, y=train_generator.classes)\n",
    "class_weight = {class_id: weight for class_id, weight in zip(train_generator.classes, class_weights)}"
   ]
  },
  {
   "cell_type": "code",
   "execution_count": 8,
   "id": "7fa142ad",
   "metadata": {
    "execution": {
     "iopub.execute_input": "2024-02-18T06:30:26.750217Z",
     "iopub.status.busy": "2024-02-18T06:30:26.749317Z",
     "iopub.status.idle": "2024-02-18T06:45:12.866951Z",
     "shell.execute_reply": "2024-02-18T06:45:12.866070Z"
    },
    "papermill": {
     "duration": 886.130906,
     "end_time": "2024-02-18T06:45:12.868888",
     "exception": false,
     "start_time": "2024-02-18T06:30:26.737982",
     "status": "completed"
    },
    "tags": []
   },
   "outputs": [
    {
     "name": "stdout",
     "output_type": "stream",
     "text": [
      "Epoch 1/100\n"
     ]
    },
    {
     "name": "stderr",
     "output_type": "stream",
     "text": [
      "2024-02-18 06:30:28.669025: E tensorflow/core/grappler/optimizers/meta_optimizer.cc:961] layout failed: INVALID_ARGUMENT: Size of values 0 does not match size of permutation 4 @ fanin shape insequential/dropout/dropout/SelectV2-2-TransposeNHWCToNCHW-LayoutOptimizer\n",
      "WARNING: All log messages before absl::InitializeLog() is called are written to STDERR\n",
      "I0000 00:00:1708237831.691799      68 device_compiler.h:186] Compiled cluster using XLA!  This line is logged at most once for the lifetime of the process.\n"
     ]
    },
    {
     "name": "stdout",
     "output_type": "stream",
     "text": [
      "448/448 [==============================] - 186s 401ms/step - loss: 2.2049 - accuracy: 0.1564 - val_loss: 1.8158 - val_accuracy: 0.2395\n",
      "Epoch 2/100\n",
      "448/448 [==============================] - 31s 69ms/step - loss: 1.9740 - accuracy: 0.1875 - val_loss: 1.8620 - val_accuracy: 0.2458\n",
      "Epoch 3/100\n",
      "448/448 [==============================] - 32s 72ms/step - loss: 1.8784 - accuracy: 0.2516 - val_loss: 1.8920 - val_accuracy: 0.1862\n",
      "Epoch 4/100\n",
      "448/448 [==============================] - 31s 69ms/step - loss: 1.8166 - accuracy: 0.2751 - val_loss: 1.7401 - val_accuracy: 0.3285\n",
      "Epoch 5/100\n",
      "448/448 [==============================] - 32s 72ms/step - loss: 1.7082 - accuracy: 0.3063 - val_loss: 1.9929 - val_accuracy: 0.1967\n",
      "Epoch 6/100\n",
      "448/448 [==============================] - 32s 71ms/step - loss: 1.6292 - accuracy: 0.3500 - val_loss: 1.7352 - val_accuracy: 0.2923\n",
      "Epoch 7/100\n",
      "448/448 [==============================] - 30s 67ms/step - loss: 1.5453 - accuracy: 0.3845 - val_loss: 1.9474 - val_accuracy: 0.2083\n",
      "Epoch 8/100\n",
      "448/448 [==============================] - 31s 69ms/step - loss: 1.4653 - accuracy: 0.4040 - val_loss: 1.6499 - val_accuracy: 0.3704\n",
      "Epoch 9/100\n",
      "448/448 [==============================] - 30s 67ms/step - loss: 1.3628 - accuracy: 0.4409 - val_loss: 1.7441 - val_accuracy: 0.3294\n",
      "Epoch 10/100\n",
      "448/448 [==============================] - 31s 70ms/step - loss: 1.3427 - accuracy: 0.4661 - val_loss: 2.1430 - val_accuracy: 0.2017\n",
      "Epoch 11/100\n",
      "448/448 [==============================] - 34s 77ms/step - loss: 1.2104 - accuracy: 0.4956 - val_loss: 1.6287 - val_accuracy: 0.3560\n",
      "Epoch 12/100\n",
      "448/448 [==============================] - 31s 70ms/step - loss: 1.1703 - accuracy: 0.5197 - val_loss: 1.8714 - val_accuracy: 0.3722\n",
      "Epoch 13/100\n",
      "448/448 [==============================] - 32s 71ms/step - loss: 1.0638 - accuracy: 0.5576 - val_loss: 1.5579 - val_accuracy: 0.4122\n",
      "Epoch 14/100\n",
      "448/448 [==============================] - 34s 75ms/step - loss: 1.0331 - accuracy: 0.5735 - val_loss: 1.7008 - val_accuracy: 0.3943\n",
      "Epoch 15/100\n",
      "448/448 [==============================] - 32s 72ms/step - loss: 0.9715 - accuracy: 0.5966 - val_loss: 1.7117 - val_accuracy: 0.3380\n",
      "Epoch 16/100\n",
      "448/448 [==============================] - 30s 68ms/step - loss: 0.9290 - accuracy: 0.6067 - val_loss: 1.5957 - val_accuracy: 0.4148\n",
      "Epoch 17/100\n",
      "448/448 [==============================] - 30s 67ms/step - loss: 0.8711 - accuracy: 0.6317 - val_loss: 1.8333 - val_accuracy: 0.3488\n",
      "Epoch 18/100\n",
      "448/448 [==============================] - 30s 68ms/step - loss: 0.8124 - accuracy: 0.6523 - val_loss: 1.7762 - val_accuracy: 0.3831\n",
      "Epoch 19/100\n",
      "448/448 [==============================] - 31s 70ms/step - loss: 0.7901 - accuracy: 0.6707 - val_loss: 1.6813 - val_accuracy: 0.3912\n",
      "Epoch 20/100\n",
      "448/448 [==============================] - 31s 70ms/step - loss: 0.7655 - accuracy: 0.6729 - val_loss: 1.6543 - val_accuracy: 0.4085\n",
      "Epoch 21/100\n",
      "448/448 [==============================] - 31s 69ms/step - loss: 0.7633 - accuracy: 0.6777 - val_loss: 1.7722 - val_accuracy: 0.3771\n",
      "Epoch 22/100\n",
      "448/448 [==============================] - 30s 67ms/step - loss: 0.6973 - accuracy: 0.7005 - val_loss: 1.9961 - val_accuracy: 0.3659\n",
      "Epoch 23/100\n",
      "448/448 [==============================] - ETA: 0s - loss: 0.6558 - accuracy: 0.7257Restoring model weights from the end of the best epoch: 13.\n",
      "448/448 [==============================] - 32s 71ms/step - loss: 0.6558 - accuracy: 0.7257 - val_loss: 1.8769 - val_accuracy: 0.3866\n",
      "Epoch 23: early stopping\n"
     ]
    }
   ],
   "source": [
    "# Constant for epochs\n",
    "EPOCHS = 100\n",
    "EarlyStopping = tf.keras.callbacks.EarlyStopping\n",
    "\n",
    "# Train the model\n",
    "history = model.fit(\n",
    "      train_generator,\n",
    "      steps_per_epoch = 28709 // 64,  # 28709 images = batch_size(64) * steps\n",
    "      epochs=EPOCHS,\n",
    "      validation_data = validation_generator,\n",
    "      validation_steps = 7178 // 64,  # 7178 images = batch_size(64) * steps\n",
    "      verbose=1,\n",
    "      class_weight=class_weight ,   #uneven class weights to cope with imbalanced data\n",
    "      callbacks=EarlyStopping(monitor=\"val_loss\", verbose = 1, patience = 10, mode = 'min', restore_best_weights=True)\n",
    "      )"
   ]
  },
  {
   "cell_type": "code",
   "execution_count": 9,
   "id": "e61632bf",
   "metadata": {
    "execution": {
     "iopub.execute_input": "2024-02-18T06:45:14.443883Z",
     "iopub.status.busy": "2024-02-18T06:45:14.443511Z",
     "iopub.status.idle": "2024-02-18T06:45:20.960120Z",
     "shell.execute_reply": "2024-02-18T06:45:20.959244Z"
    },
    "papermill": {
     "duration": 7.321438,
     "end_time": "2024-02-18T06:45:20.962145",
     "exception": false,
     "start_time": "2024-02-18T06:45:13.640707",
     "status": "completed"
    },
    "tags": []
   },
   "outputs": [
    {
     "name": "stdout",
     "output_type": "stream",
     "text": [
      "113/113 [==============================] - 6s 57ms/step - loss: 1.5577 - accuracy: 0.4126\n"
     ]
    },
    {
     "data": {
      "text/plain": [
       "[1.5577020645141602, 0.4126497507095337]"
      ]
     },
     "execution_count": 9,
     "metadata": {},
     "output_type": "execute_result"
    }
   ],
   "source": [
    "#saved performance\n",
    "model.evaluate(validation_generator)"
   ]
  },
  {
   "cell_type": "code",
   "execution_count": 10,
   "id": "f56e305e",
   "metadata": {
    "execution": {
     "iopub.execute_input": "2024-02-18T06:45:22.485715Z",
     "iopub.status.busy": "2024-02-18T06:45:22.485350Z",
     "iopub.status.idle": "2024-02-18T06:45:22.491289Z",
     "shell.execute_reply": "2024-02-18T06:45:22.490428Z"
    },
    "papermill": {
     "duration": 0.76154,
     "end_time": "2024-02-18T06:45:22.493273",
     "exception": false,
     "start_time": "2024-02-18T06:45:21.731733",
     "status": "completed"
    },
    "tags": []
   },
   "outputs": [
    {
     "data": {
      "text/plain": [
       "dict_keys(['loss', 'accuracy', 'val_loss', 'val_accuracy'])"
      ]
     },
     "execution_count": 10,
     "metadata": {},
     "output_type": "execute_result"
    }
   ],
   "source": [
    "history.history.keys()"
   ]
  },
  {
   "cell_type": "code",
   "execution_count": 11,
   "id": "81d684eb",
   "metadata": {
    "execution": {
     "iopub.execute_input": "2024-02-18T06:45:24.111422Z",
     "iopub.status.busy": "2024-02-18T06:45:24.110454Z",
     "iopub.status.idle": "2024-02-18T06:45:24.528272Z",
     "shell.execute_reply": "2024-02-18T06:45:24.527375Z"
    },
    "papermill": {
     "duration": 1.206648,
     "end_time": "2024-02-18T06:45:24.530594",
     "exception": false,
     "start_time": "2024-02-18T06:45:23.323946",
     "status": "completed"
    },
    "tags": []
   },
   "outputs": [
    {
     "name": "stderr",
     "output_type": "stream",
     "text": [
      "/tmp/ipykernel_25/2951677119.py:4: MatplotlibDeprecationWarning: Auto-removal of overlapping axes is deprecated since 3.6 and will be removed two minor releases later; explicitly call ax.remove() as needed.\n",
      "  plt.subplot(1, 2, 1)\n"
     ]
    },
    {
     "data": {
      "text/plain": [
       "<matplotlib.legend.Legend at 0x7f5558cf0760>"
      ]
     },
     "execution_count": 11,
     "metadata": {},
     "output_type": "execute_result"
    },
    {
     "data": {
      "image/png": "[encoded data removed]",
      "text/plain": [
       "<Figure size 1000x500 with 2 Axes>"
      ]
     },
     "metadata": {},
     "output_type": "display_data"
    }
   ],
   "source": [
    "#plotting acc and loss curves to get a beeter understanding of our network's performance\n",
    "plt.subplots(figsize=(10, 5))\n",
    "\n",
    "plt.subplot(1, 2, 1)\n",
    "plt.plot(history.history['accuracy'],     color='b', label=\"accuracy\")\n",
    "plt.plot(history.history['val_accuracy'], color='r', label=\"val_accuracy\")\n",
    "plt.legend()\n",
    "\n",
    "plt.subplot(1, 2, 2)\n",
    "plt.plot(history.history['loss'],     color='b', label=\"loss\")\n",
    "plt.plot(history.history['val_loss'], color='r', label=\"validation_loss\")\n",
    "plt.legend()\n"
   ]
  },
  {
   "cell_type": "code",
   "execution_count": 12,
   "id": "46501471",
   "metadata": {
    "execution": {
     "iopub.execute_input": "2024-02-18T06:45:26.089430Z",
     "iopub.status.busy": "2024-02-18T06:45:26.088497Z",
     "iopub.status.idle": "2024-02-18T06:45:32.468854Z",
     "shell.execute_reply": "2024-02-18T06:45:32.467945Z"
    },
    "papermill": {
     "duration": 7.18297,
     "end_time": "2024-02-18T06:45:32.470815",
     "exception": false,
     "start_time": "2024-02-18T06:45:25.287845",
     "status": "completed"
    },
    "tags": []
   },
   "outputs": [
    {
     "name": "stdout",
     "output_type": "stream",
     "text": [
      "113/113 [==============================] - 6s 53ms/step\n",
      "Confusion Matrix\n"
     ]
    },
    {
     "data": {
      "text/plain": [
       "array([[ 446,   30,  100,  192,   93,   41,   56],\n",
       "       [  32,   53,   10,    5,    6,    1,    4],\n",
       "       [ 260,   25,  245,  176,   97,   81,  140],\n",
       "       [ 232,   21,   66, 1253,   83,   52,   67],\n",
       "       [ 282,   21,  167,  238,  367,   68,   90],\n",
       "       [ 357,   25,  223,  238,  164,  156,   84],\n",
       "       [  91,    6,  149,   99,   35,    9,  442]])"
      ]
     },
     "execution_count": 12,
     "metadata": {},
     "output_type": "execute_result"
    }
   ],
   "source": [
    "#let's look out how good our net is on each class separately\n",
    "import numpy as np\n",
    "from sklearn.metrics import confusion_matrix\n",
    "Y_pred = model.predict(validation_generator)#, 7178 // 64+1)\n",
    "y_pred = np.argmax(Y_pred, axis=1)\n",
    "\n",
    "true_classes = validation_generator.classes\n",
    "\n",
    "print('Confusion Matrix')\n",
    "confusion_matrix(true_classes, y_pred)"
   ]
  },
  {
   "cell_type": "code",
   "execution_count": 13,
   "id": "b47e9905",
   "metadata": {
    "execution": {
     "iopub.execute_input": "2024-02-18T06:45:34.023048Z",
     "iopub.status.busy": "2024-02-18T06:45:34.022667Z",
     "iopub.status.idle": "2024-02-18T06:45:34.040337Z",
     "shell.execute_reply": "2024-02-18T06:45:34.038989Z"
    },
    "papermill": {
     "duration": 0.783235,
     "end_time": "2024-02-18T06:45:34.042727",
     "exception": false,
     "start_time": "2024-02-18T06:45:33.259492",
     "status": "completed"
    },
    "tags": []
   },
   "outputs": [
    {
     "name": "stdout",
     "output_type": "stream",
     "text": [
      "              precision    recall  f1-score   support\n",
      "\n",
      "       angry       0.26      0.47      0.34       958\n",
      "     disgust       0.29      0.48      0.36       111\n",
      "        fear       0.26      0.24      0.25      1024\n",
      "       happy       0.57      0.71      0.63      1774\n",
      "     neutral       0.43      0.30      0.35      1233\n",
      "         sad       0.38      0.13      0.19      1247\n",
      "    surprise       0.50      0.53      0.52       831\n",
      "\n",
      "    accuracy                           0.41      7178\n",
      "   macro avg       0.39      0.41      0.38      7178\n",
      "weighted avg       0.42      0.41      0.39      7178\n",
      "\n"
     ]
    }
   ],
   "source": [
    "from sklearn.metrics import classification_report\n",
    "class_labels = list(validation_generator.class_indices.keys())\n",
    "report = classification_report(true_classes, y_pred, target_names=class_labels)\n",
    "print(report)"
   ]
  },
  {
   "cell_type": "markdown",
   "id": "42f215c9",
   "metadata": {
    "papermill": {
     "duration": 0.796996,
     "end_time": "2024-02-18T06:45:35.641345",
     "exception": false,
     "start_time": "2024-02-18T06:45:34.844349",
     "status": "completed"
    },
    "tags": []
   },
   "source": [
    "seems good :)"
   ]
  }
 ],
 "metadata": {
  "kaggle": {
   "accelerator": "gpu",
   "dataSources": [
    {
     "datasetId": 786787,
     "sourceId": 1351797,
     "sourceType": "datasetVersion"
    }
   ],
   "dockerImageVersionId": 30648,
   "isGpuEnabled": true,
   "isInternetEnabled": true,
   "language": "python",
   "sourceType": "notebook"
  },
  "kernelspec": {
   "display_name": "Python 3",
   "language": "python",
   "name": "python3"
  },
  "language_info": {
   "codemirror_mode": {
    "name": "ipython",
    "version": 3
   },
   "file_extension": ".py",
   "mimetype": "text/x-python",
   "name": "python",
   "nbconvert_exporter": "python",
   "pygments_lexer": "ipython3",
   "version": "3.10.13"
  },
  "papermill": {
   "default_parameters": {},
   "duration": 962.834918,
   "end_time": "2024-02-18T06:45:38.388668",
   "environment_variables": {},
   "exception": null,
   "input_path": "__notebook__.ipynb",
   "output_path": "__notebook__.ipynb",
   "parameters": {},
   "start_time": "2024-02-18T06:29:35.553750",
   "version": "2.5.0"
  }
 },
 "nbformat": 4,
 "nbformat_minor": 5
}
