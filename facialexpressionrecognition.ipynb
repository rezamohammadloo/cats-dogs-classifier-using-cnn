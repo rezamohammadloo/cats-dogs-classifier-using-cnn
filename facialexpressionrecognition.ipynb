{
 "cells": [
  {
   "cell_type": "code",
   "execution_count": 1,
   "id": "fbf10427",
   "metadata": {
    "execution": {
     "iopub.execute_input": "2024-02-18T07:02:44.291274Z",
     "iopub.status.busy": "2024-02-18T07:02:44.290897Z",
     "iopub.status.idle": "2024-02-18T07:02:44.301385Z",
     "shell.execute_reply": "2024-02-18T07:02:44.300700Z"
    },
    "papermill": {
     "duration": 0.018988,
     "end_time": "2024-02-18T07:02:44.303258",
     "exception": false,
     "start_time": "2024-02-18T07:02:44.284270",
     "status": "completed"
    },
    "tags": []
   },
   "outputs": [],
   "source": [
    "#main directories\n",
    "train_dir = '/kaggle/input/fer2013/train'\n",
    "test_dir  = '/kaggle/input/fer2013/test'"
   ]
  },
  {
   "cell_type": "code",
   "execution_count": 2,
   "id": "51d985a6",
   "metadata": {
    "execution": {
     "iopub.execute_input": "2024-02-18T07:02:44.314046Z",
     "iopub.status.busy": "2024-02-18T07:02:44.313603Z",
     "iopub.status.idle": "2024-02-18T07:02:46.256519Z",
     "shell.execute_reply": "2024-02-18T07:02:46.255472Z"
    },
    "papermill": {
     "duration": 1.950431,
     "end_time": "2024-02-18T07:02:46.258587",
     "exception": false,
     "start_time": "2024-02-18T07:02:44.308156",
     "status": "completed"
    },
    "tags": []
   },
   "outputs": [
    {
     "name": "stdout",
     "output_type": "stream",
     "text": [
      "class labels:['surprise', 'fear', 'angry', 'neutral', 'sad', 'disgust', 'happy']\n",
      "\n",
      "number of train images in class surprise is: 3171\n",
      "number of test  images in class surprise is: 831\n",
      "\n",
      "number of train images in class fear is: 4097\n",
      "number of test  images in class fear is: 1024\n",
      "\n",
      "number of train images in class angry is: 3995\n",
      "number of test  images in class angry is: 958\n",
      "\n",
      "number of train images in class neutral is: 4965\n",
      "number of test  images in class neutral is: 1233\n",
      "\n",
      "number of train images in class sad is: 4830\n",
      "number of test  images in class sad is: 1247\n",
      "\n",
      "number of train images in class disgust is: 436\n",
      "number of test  images in class disgust is: 111\n",
      "\n",
      "number of train images in class happy is: 7215\n",
      "number of test  images in class happy is: 1774\n"
     ]
    }
   ],
   "source": [
    "import os\n",
    "#analyzing our data\n",
    "lable_names = os.listdir(train_dir)\n",
    "print(f'class labels:{lable_names}')\n",
    "\n",
    "for i in lable_names:\n",
    "  print(f'\\nnumber of train images in class {i} is: {len(os.listdir(os.path.join(train_dir, i)))}')\n",
    "  print(f'number of test  images in class {i} is: {len(os.listdir(os.path.join(test_dir, i)))}')"
   ]
  },
  {
   "cell_type": "code",
   "execution_count": 3,
   "id": "b8170e91",
   "metadata": {
    "execution": {
     "iopub.execute_input": "2024-02-18T07:02:46.270977Z",
     "iopub.status.busy": "2024-02-18T07:02:46.270684Z",
     "iopub.status.idle": "2024-02-18T07:02:47.216746Z",
     "shell.execute_reply": "2024-02-18T07:02:47.215923Z"
    },
    "papermill": {
     "duration": 0.954626,
     "end_time": "2024-02-18T07:02:47.218789",
     "exception": false,
     "start_time": "2024-02-18T07:02:46.264163",
     "status": "completed"
    },
    "tags": []
   },
   "outputs": [
    {
     "data": {
      "text/plain": [
       "<Axes: >"
      ]
     },
     "execution_count": 3,
     "metadata": {},
     "output_type": "execute_result"
    },
    {
     "data": {
      "text/plain": [
       "<Figure size 1500x1000 with 0 Axes>"
      ]
     },
     "metadata": {},
     "output_type": "display_data"
    },
    {
     "data": {
      "image/png": "[encoded data removed]",
      "text/plain": [
       "<Figure size 640x480 with 1 Axes>"
      ]
     },
     "metadata": {},
     "output_type": "display_data"
    }
   ],
   "source": [
    "import pandas as pd\n",
    "import matplotlib.pyplot as plt\n",
    "dict = {}\n",
    "for i in lable_names:\n",
    "  dict.update(({i:[ len(os.listdir(os.path.join(train_dir, i))) , len(os.listdir(os.path.join(test_dir, i)))]}))\n",
    "\n",
    "df = pd.DataFrame(dict).T\n",
    "df.columns = ['train number', 'test number']\n",
    "\n",
    "plt.figure(figsize = (15,10))\n",
    "df.plot(kind = 'bar' )"
   ]
  },
  {
   "cell_type": "markdown",
   "id": "3d5c9672",
   "metadata": {
    "papermill": {
     "duration": 0.005771,
     "end_time": "2024-02-18T07:02:47.230691",
     "exception": false,
     "start_time": "2024-02-18T07:02:47.224920",
     "status": "completed"
    },
    "tags": []
   },
   "source": [
    "not so much balanced!"
   ]
  },
  {
   "cell_type": "code",
   "execution_count": 4,
   "id": "f111f97b",
   "metadata": {
    "execution": {
     "iopub.execute_input": "2024-02-18T07:02:47.243893Z",
     "iopub.status.busy": "2024-02-18T07:02:47.243479Z",
     "iopub.status.idle": "2024-02-18T07:02:59.394880Z",
     "shell.execute_reply": "2024-02-18T07:02:59.393954Z"
    },
    "papermill": {
     "duration": 12.160655,
     "end_time": "2024-02-18T07:02:59.397231",
     "exception": false,
     "start_time": "2024-02-18T07:02:47.236576",
     "status": "completed"
    },
    "tags": []
   },
   "outputs": [
    {
     "name": "stderr",
     "output_type": "stream",
     "text": [
      "2024-02-18 07:02:48.714337: E external/local_xla/xla/stream_executor/cuda/cuda_dnn.cc:9261] Unable to register cuDNN factory: Attempting to register factory for plugin cuDNN when one has already been registered\n",
      "2024-02-18 07:02:48.714455: E external/local_xla/xla/stream_executor/cuda/cuda_fft.cc:607] Unable to register cuFFT factory: Attempting to register factory for plugin cuFFT when one has already been registered\n",
      "2024-02-18 07:02:48.821289: E external/local_xla/xla/stream_executor/cuda/cuda_blas.cc:1515] Unable to register cuBLAS factory: Attempting to register factory for plugin cuBLAS when one has already been registered\n"
     ]
    }
   ],
   "source": [
    "import tensorflow as tf\n",
    "model = tf.keras.models.Sequential([\n",
    "    #first conv layer\n",
    "    tf.keras.layers.Conv2D(16, (3,3), activation='relu', input_shape=(48, 48, 3)),#, input_shape=(48, 48, 3)\n",
    "    tf.keras.layers.BatchNormalization(),\n",
    "    tf.keras.layers.MaxPooling2D(pool_size = (2, 2), strides = (2, 2)),\n",
    "#     tf.keras.layers.Dropout(0.1),\n",
    "\n",
    "    #second conv layer\n",
    "    tf.keras.layers.Conv2D(32, (3,3), activation='relu'),\n",
    "    tf.keras.layers.BatchNormalization(),\n",
    "    tf.keras.layers.MaxPooling2D(pool_size = (2, 2), strides = (2, 2)),\n",
    "    tf.keras.layers.Dropout(0.1),\n",
    "    \n",
    "    #third conv layer\n",
    "#     tf.keras.layers.Conv2D(64, (3,3), activation='relu'),\n",
    "#     tf.keras.layers.BatchNormalization(),\n",
    "#     tf.keras.layers.MaxPooling2D(pool_size = (2, 2), strides = (2, 2)),\n",
    "#     tf.keras.layers.Dropout(0.3),\n",
    "\n",
    "\n",
    "    tf.keras.layers.Flatten(),\n",
    "\n",
    "    tf.keras.layers.Dense(512, activation='relu'),\n",
    "    tf.keras.layers.Dropout(0.2),\n",
    "\n",
    "    tf.keras.layers.Dense(256, activation='relu'),\n",
    "    tf.keras.layers.Dropout(0.1),\n",
    "\n",
    "    tf.keras.layers.Dense(7, activation='softmax')\n",
    "])\n",
    "\n",
    "\n",
    "model.compile(optimizer = 'adam' , loss = 'categorical_crossentropy', metrics=[\"accuracy\"])"
   ]
  },
  {
   "cell_type": "code",
   "execution_count": 5,
   "id": "cdb894a0",
   "metadata": {
    "execution": {
     "iopub.execute_input": "2024-02-18T07:02:59.425026Z",
     "iopub.status.busy": "2024-02-18T07:02:59.424172Z",
     "iopub.status.idle": "2024-02-18T07:02:59.459878Z",
     "shell.execute_reply": "2024-02-18T07:02:59.458973Z"
    },
    "papermill": {
     "duration": 0.059154,
     "end_time": "2024-02-18T07:02:59.475770",
     "exception": false,
     "start_time": "2024-02-18T07:02:59.416616",
     "status": "completed"
    },
    "tags": []
   },
   "outputs": [
    {
     "name": "stdout",
     "output_type": "stream",
     "text": [
      "Model: \"sequential\"\n",
      "_________________________________________________________________\n",
      " Layer (type)                Output Shape              Param #   \n",
      "=================================================================\n",
      " conv2d (Conv2D)             (None, 46, 46, 16)        448       \n",
      "                                                                 \n",
      " batch_normalization (Batch  (None, 46, 46, 16)        64        \n",
      " Normalization)                                                  \n",
      "                                                                 \n",
      " max_pooling2d (MaxPooling2  (None, 23, 23, 16)        0         \n",
      " D)                                                              \n",
      "                                                                 \n",
      " conv2d_1 (Conv2D)           (None, 21, 21, 32)        4640      \n",
      "                                                                 \n",
      " batch_normalization_1 (Bat  (None, 21, 21, 32)        128       \n",
      " chNormalization)                                                \n",
      "                                                                 \n",
      " max_pooling2d_1 (MaxPoolin  (None, 10, 10, 32)        0         \n",
      " g2D)                                                            \n",
      "                                                                 \n",
      " dropout (Dropout)           (None, 10, 10, 32)        0         \n",
      "                                                                 \n",
      " flatten (Flatten)           (None, 3200)              0         \n",
      "                                                                 \n",
      " dense (Dense)               (None, 512)               1638912   \n",
      "                                                                 \n",
      " dropout_1 (Dropout)         (None, 512)               0         \n",
      "                                                                 \n",
      " dense_1 (Dense)             (None, 256)               131328    \n",
      "                                                                 \n",
      " dropout_2 (Dropout)         (None, 256)               0         \n",
      "                                                                 \n",
      " dense_2 (Dense)             (None, 7)                 1799      \n",
      "                                                                 \n",
      "=================================================================\n",
      "Total params: 1777319 (6.78 MB)\n",
      "Trainable params: 1777223 (6.78 MB)\n",
      "Non-trainable params: 96 (384.00 Byte)\n",
      "_________________________________________________________________\n"
     ]
    }
   ],
   "source": [
    "model.summary()"
   ]
  },
  {
   "cell_type": "code",
   "execution_count": 6,
   "id": "6a68772d",
   "metadata": {
    "execution": {
     "iopub.execute_input": "2024-02-18T07:02:59.495014Z",
     "iopub.status.busy": "2024-02-18T07:02:59.494743Z",
     "iopub.status.idle": "2024-02-18T07:03:18.358147Z",
     "shell.execute_reply": "2024-02-18T07:03:18.357239Z"
    },
    "papermill": {
     "duration": 18.875394,
     "end_time": "2024-02-18T07:03:18.360305",
     "exception": false,
     "start_time": "2024-02-18T07:02:59.484911",
     "status": "completed"
    },
    "tags": []
   },
   "outputs": [
    {
     "name": "stdout",
     "output_type": "stream",
     "text": [
      "Found 28709 images belonging to 7 classes.\n",
      "Found 7178 images belonging to 7 classes.\n"
     ]
    }
   ],
   "source": [
    "from tensorflow.keras.preprocessing.image import ImageDataGenerator\n",
    "# All images will be rescaled by 1./255\n",
    "train_datagen = ImageDataGenerator(rescale=1./255)\n",
    "\n",
    "test_datagen  = ImageDataGenerator(rescale=1./255)\n",
    "\n",
    "# Flow training images in batches of 64 using train_datagen generator\n",
    "train_generator = train_datagen.flow_from_directory(\n",
    "        train_dir,  # This is the source directory for training images\n",
    "        target_size=(48, 48),  # All images will be resized to 48x48\n",
    "        batch_size=64,\n",
    "        class_mode='categorical',# Since we use categorical_crossentropy loss, we need categorical labels\n",
    "        shuffle = False)\n",
    "\n",
    "\n",
    "# Flow validation images in batches of 64 using test_datagen generator\n",
    "validation_generator = test_datagen.flow_from_directory(\n",
    "        test_dir,\n",
    "        target_size=(48, 48),\n",
    "        batch_size=64,\n",
    "        class_mode='categorical',\n",
    "        shuffle = False)"
   ]
  },
  {
   "cell_type": "code",
   "execution_count": 7,
   "id": "1b42cd25",
   "metadata": {
    "execution": {
     "iopub.execute_input": "2024-02-18T07:03:18.380069Z",
     "iopub.status.busy": "2024-02-18T07:03:18.379792Z",
     "iopub.status.idle": "2024-02-18T07:03:19.039197Z",
     "shell.execute_reply": "2024-02-18T07:03:19.038439Z"
    },
    "papermill": {
     "duration": 0.671718,
     "end_time": "2024-02-18T07:03:19.041513",
     "exception": false,
     "start_time": "2024-02-18T07:03:18.369795",
     "status": "completed"
    },
    "tags": []
   },
   "outputs": [],
   "source": [
    "#setting different weights for different classes because of imbalanced data\n",
    "from sklearn.utils.class_weight import compute_class_weight\n",
    "\n",
    "\n",
    "# \"If ‘balanced’, class weights will be given by n_samples / (n_classes * np.bincount(y)).\"\n",
    "class_weights = compute_class_weight(\"balanced\", classes=train_generator.classes, y=train_generator.classes)\n",
    "class_weight = {class_id: weight for class_id, weight in zip(train_generator.classes, class_weights)}"
   ]
  },
  {
   "cell_type": "code",
   "execution_count": 8,
   "id": "ee032f91",
   "metadata": {
    "execution": {
     "iopub.execute_input": "2024-02-18T07:03:19.061780Z",
     "iopub.status.busy": "2024-02-18T07:03:19.060967Z",
     "iopub.status.idle": "2024-02-18T07:22:32.220080Z",
     "shell.execute_reply": "2024-02-18T07:22:32.219079Z"
    },
    "papermill": {
     "duration": 1153.171187,
     "end_time": "2024-02-18T07:22:32.222066",
     "exception": false,
     "start_time": "2024-02-18T07:03:19.050879",
     "status": "completed"
    },
    "tags": []
   },
   "outputs": [
    {
     "name": "stdout",
     "output_type": "stream",
     "text": [
      "Epoch 1/100\n"
     ]
    },
    {
     "name": "stderr",
     "output_type": "stream",
     "text": [
      "2024-02-18 07:03:20.773858: E tensorflow/core/grappler/optimizers/meta_optimizer.cc:961] layout failed: INVALID_ARGUMENT: Size of values 0 does not match size of permutation 4 @ fanin shape insequential/dropout/dropout/SelectV2-2-TransposeNHWCToNCHW-LayoutOptimizer\n",
      "WARNING: All log messages before absl::InitializeLog() is called are written to STDERR\n",
      "I0000 00:00:1708239803.718289      70 device_compiler.h:186] Compiled cluster using XLA!  This line is logged at most once for the lifetime of the process.\n"
     ]
    },
    {
     "name": "stdout",
     "output_type": "stream",
     "text": [
      "448/448 [==============================] - 274s 599ms/step - loss: 2.2351 - accuracy: 0.1690 - val_loss: 1.8971 - val_accuracy: 0.2222\n",
      "Epoch 2/100\n",
      "448/448 [==============================] - 49s 109ms/step - loss: 1.9905 - accuracy: 0.1852 - val_loss: 1.8695 - val_accuracy: 0.2062\n",
      "Epoch 3/100\n",
      "448/448 [==============================] - 49s 109ms/step - loss: 1.8220 - accuracy: 0.2482 - val_loss: 1.6567 - val_accuracy: 0.3504\n",
      "Epoch 4/100\n",
      "448/448 [==============================] - 49s 108ms/step - loss: 1.7048 - accuracy: 0.3112 - val_loss: 1.6694 - val_accuracy: 0.3570\n",
      "Epoch 5/100\n",
      "448/448 [==============================] - 48s 107ms/step - loss: 1.4860 - accuracy: 0.3894 - val_loss: 1.6166 - val_accuracy: 0.3788\n",
      "Epoch 6/100\n",
      "448/448 [==============================] - 49s 109ms/step - loss: 1.3634 - accuracy: 0.4418 - val_loss: 1.6692 - val_accuracy: 0.3362\n",
      "Epoch 7/100\n",
      "448/448 [==============================] - 49s 110ms/step - loss: 1.2076 - accuracy: 0.4938 - val_loss: 1.5840 - val_accuracy: 0.4062\n",
      "Epoch 8/100\n",
      "448/448 [==============================] - 48s 108ms/step - loss: 1.0651 - accuracy: 0.5510 - val_loss: 1.5836 - val_accuracy: 0.3855\n",
      "Epoch 9/100\n",
      "448/448 [==============================] - 48s 108ms/step - loss: 0.9351 - accuracy: 0.6022 - val_loss: 1.7386 - val_accuracy: 0.3878\n",
      "Epoch 10/100\n",
      "448/448 [==============================] - 49s 109ms/step - loss: 0.7965 - accuracy: 0.6591 - val_loss: 1.4326 - val_accuracy: 0.4598\n",
      "Epoch 11/100\n",
      "448/448 [==============================] - 49s 110ms/step - loss: 0.6940 - accuracy: 0.7080 - val_loss: 1.5121 - val_accuracy: 0.4708\n",
      "Epoch 12/100\n",
      "448/448 [==============================] - 48s 106ms/step - loss: 0.6128 - accuracy: 0.7438 - val_loss: 1.5435 - val_accuracy: 0.4847\n",
      "Epoch 13/100\n",
      "448/448 [==============================] - 48s 107ms/step - loss: 0.4926 - accuracy: 0.7981 - val_loss: 1.7890 - val_accuracy: 0.3920\n",
      "Epoch 14/100\n",
      "448/448 [==============================] - 48s 107ms/step - loss: 0.4422 - accuracy: 0.8203 - val_loss: 1.6410 - val_accuracy: 0.4982\n",
      "Epoch 15/100\n",
      "448/448 [==============================] - 48s 106ms/step - loss: 0.3910 - accuracy: 0.8469 - val_loss: 1.8568 - val_accuracy: 0.4754\n",
      "Epoch 16/100\n",
      "448/448 [==============================] - ETA: 0s - loss: 0.3550 - accuracy: 0.8633Restoring model weights from the end of the best epoch: 10.\n",
      "448/448 [==============================] - 50s 111ms/step - loss: 0.3550 - accuracy: 0.8633 - val_loss: 2.0380 - val_accuracy: 0.4653\n",
      "Epoch 16: early stopping\n"
     ]
    }
   ],
   "source": [
    "# Constant for epochs\n",
    "EPOCHS = 100\n",
    "EarlyStopping = tf.keras.callbacks.EarlyStopping\n",
    "\n",
    "# Train the model\n",
    "history = model.fit(\n",
    "      train_generator,\n",
    "      steps_per_epoch = 28709 // 64,  # 28709 images = batch_size(64) * steps\n",
    "      epochs=EPOCHS,\n",
    "      validation_data = validation_generator,\n",
    "      validation_steps = 7178 // 64,  # 7178 images = batch_size(64) * steps\n",
    "      verbose=1,\n",
    "      class_weight=class_weight ,   #uneven class weights to cope with imbalanced data\n",
    "      callbacks=EarlyStopping(monitor=\"val_loss\", verbose = 1, patience = 6, mode = 'min', restore_best_weights=True)\n",
    "      )"
   ]
  },
  {
   "cell_type": "code",
   "execution_count": 9,
   "id": "72bf0f5f",
   "metadata": {
    "execution": {
     "iopub.execute_input": "2024-02-18T07:22:33.397914Z",
     "iopub.status.busy": "2024-02-18T07:22:33.397548Z",
     "iopub.status.idle": "2024-02-18T07:22:46.754061Z",
     "shell.execute_reply": "2024-02-18T07:22:46.753171Z"
    },
    "papermill": {
     "duration": 13.943827,
     "end_time": "2024-02-18T07:22:46.756178",
     "exception": false,
     "start_time": "2024-02-18T07:22:32.812351",
     "status": "completed"
    },
    "tags": []
   },
   "outputs": [
    {
     "name": "stdout",
     "output_type": "stream",
     "text": [
      "113/113 [==============================] - 13s 117ms/step - loss: 1.4320 - accuracy: 0.4603\n"
     ]
    },
    {
     "data": {
      "text/plain": [
       "[1.4320008754730225, 0.46029534935951233]"
      ]
     },
     "execution_count": 9,
     "metadata": {},
     "output_type": "execute_result"
    }
   ],
   "source": [
    "#saved performance\n",
    "model.evaluate(validation_generator)"
   ]
  },
  {
   "cell_type": "code",
   "execution_count": 10,
   "id": "8e6d5e37",
   "metadata": {
    "execution": {
     "iopub.execute_input": "2024-02-18T07:22:47.986470Z",
     "iopub.status.busy": "2024-02-18T07:22:47.985654Z",
     "iopub.status.idle": "2024-02-18T07:22:47.992221Z",
     "shell.execute_reply": "2024-02-18T07:22:47.991319Z"
    },
    "papermill": {
     "duration": 0.607708,
     "end_time": "2024-02-18T07:22:47.994357",
     "exception": false,
     "start_time": "2024-02-18T07:22:47.386649",
     "status": "completed"
    },
    "tags": []
   },
   "outputs": [
    {
     "data": {
      "text/plain": [
       "dict_keys(['loss', 'accuracy', 'val_loss', 'val_accuracy'])"
      ]
     },
     "execution_count": 10,
     "metadata": {},
     "output_type": "execute_result"
    }
   ],
   "source": [
    "history.history.keys()"
   ]
  },
  {
   "cell_type": "code",
   "execution_count": 11,
   "id": "e173306a",
   "metadata": {
    "execution": {
     "iopub.execute_input": "2024-02-18T07:22:49.222278Z",
     "iopub.status.busy": "2024-02-18T07:22:49.221918Z",
     "iopub.status.idle": "2024-02-18T07:22:49.681000Z",
     "shell.execute_reply": "2024-02-18T07:22:49.680050Z"
    },
    "papermill": {
     "duration": 1.100388,
     "end_time": "2024-02-18T07:22:49.683135",
     "exception": false,
     "start_time": "2024-02-18T07:22:48.582747",
     "status": "completed"
    },
    "tags": []
   },
   "outputs": [
    {
     "name": "stderr",
     "output_type": "stream",
     "text": [
      "/tmp/ipykernel_27/2951677119.py:4: MatplotlibDeprecationWarning: Auto-removal of overlapping axes is deprecated since 3.6 and will be removed two minor releases later; explicitly call ax.remove() as needed.\n",
      "  plt.subplot(1, 2, 1)\n"
     ]
    },
    {
     "data": {
      "text/plain": [
       "<matplotlib.legend.Legend at 0x787b2874bee0>"
      ]
     },
     "execution_count": 11,
     "metadata": {},
     "output_type": "execute_result"
    },
    {
     "data": {
      "image/png": "[encoded data removed]",
      "text/plain": [
       "<Figure size 1000x500 with 2 Axes>"
      ]
     },
     "metadata": {},
     "output_type": "display_data"
    }
   ],
   "source": [
    "#plotting acc and loss curves to get a beeter understanding of our network's performance\n",
    "plt.subplots(figsize=(10, 5))\n",
    "\n",
    "plt.subplot(1, 2, 1)\n",
    "plt.plot(history.history['accuracy'],     color='b', label=\"accuracy\")\n",
    "plt.plot(history.history['val_accuracy'], color='r', label=\"val_accuracy\")\n",
    "plt.legend()\n",
    "\n",
    "plt.subplot(1, 2, 2)\n",
    "plt.plot(history.history['loss'],     color='b', label=\"loss\")\n",
    "plt.plot(history.history['val_loss'], color='r', label=\"validation_loss\")\n",
    "plt.legend()\n"
   ]
  },
  {
   "cell_type": "markdown",
   "id": "c18c1fbc",
   "metadata": {
    "papermill": {
     "duration": 0.591228,
     "end_time": "2024-02-18T07:22:50.903529",
     "exception": false,
     "start_time": "2024-02-18T07:22:50.312301",
     "status": "completed"
    },
    "tags": []
   },
   "source": [
    "let's see how good our net is on each class separately\n"
   ]
  },
  {
   "cell_type": "code",
   "execution_count": 12,
   "id": "42d746e9",
   "metadata": {
    "execution": {
     "iopub.execute_input": "2024-02-18T07:22:52.205176Z",
     "iopub.status.busy": "2024-02-18T07:22:52.204828Z",
     "iopub.status.idle": "2024-02-18T07:23:02.986947Z",
     "shell.execute_reply": "2024-02-18T07:23:02.986062Z"
    },
    "papermill": {
     "duration": 11.448587,
     "end_time": "2024-02-18T07:23:02.988806",
     "exception": false,
     "start_time": "2024-02-18T07:22:51.540219",
     "status": "completed"
    },
    "tags": []
   },
   "outputs": [
    {
     "name": "stdout",
     "output_type": "stream",
     "text": [
      "113/113 [==============================] - 10s 92ms/step\n",
      "Confusion Matrix\n"
     ]
    },
    {
     "data": {
      "text/plain": [
       "array([[ 294,   10,   95,  162,  298,   75,   24],\n",
       "       [  18,   48,   10,   13,   14,    8,    0],\n",
       "       [ 126,   11,  245,  152,  312,   90,   88],\n",
       "       [  89,    2,   56, 1237,  303,   53,   34],\n",
       "       [  85,    6,   78,  157,  808,   72,   27],\n",
       "       [ 161,   10,  143,  217,  461,  224,   31],\n",
       "       [  38,    2,   96,   78,  152,   17,  448]])"
      ]
     },
     "execution_count": 12,
     "metadata": {},
     "output_type": "execute_result"
    }
   ],
   "source": [
    "import numpy as np\n",
    "from sklearn.metrics import confusion_matrix\n",
    "Y_pred = model.predict(validation_generator)#, 7178 // 64+1)\n",
    "y_pred = np.argmax(Y_pred, axis=1)\n",
    "\n",
    "true_classes = validation_generator.classes\n",
    "\n",
    "print('Confusion Matrix')\n",
    "confusion_matrix(true_classes, y_pred)"
   ]
  },
  {
   "cell_type": "code",
   "execution_count": 13,
   "id": "cfd7539f",
   "metadata": {
    "execution": {
     "iopub.execute_input": "2024-02-18T07:23:04.178526Z",
     "iopub.status.busy": "2024-02-18T07:23:04.178157Z",
     "iopub.status.idle": "2024-02-18T07:23:04.196115Z",
     "shell.execute_reply": "2024-02-18T07:23:04.195103Z"
    },
    "papermill": {
     "duration": 0.617009,
     "end_time": "2024-02-18T07:23:04.198166",
     "exception": false,
     "start_time": "2024-02-18T07:23:03.581157",
     "status": "completed"
    },
    "tags": []
   },
   "outputs": [
    {
     "name": "stdout",
     "output_type": "stream",
     "text": [
      "              precision    recall  f1-score   support\n",
      "\n",
      "       angry       0.36      0.31      0.33       958\n",
      "     disgust       0.54      0.43      0.48       111\n",
      "        fear       0.34      0.24      0.28      1024\n",
      "       happy       0.61      0.70      0.65      1774\n",
      "     neutral       0.34      0.66      0.45      1233\n",
      "         sad       0.42      0.18      0.25      1247\n",
      "    surprise       0.69      0.54      0.60       831\n",
      "\n",
      "    accuracy                           0.46      7178\n",
      "   macro avg       0.47      0.44      0.44      7178\n",
      "weighted avg       0.47      0.46      0.44      7178\n",
      "\n"
     ]
    }
   ],
   "source": [
    "from sklearn.metrics import classification_report\n",
    "class_labels = list(validation_generator.class_indices.keys())\n",
    "report = classification_report(true_classes, y_pred, target_names=class_labels)\n",
    "print(report)"
   ]
  },
  {
   "cell_type": "markdown",
   "id": "10368030",
   "metadata": {
    "papermill": {
     "duration": 0.59135,
     "end_time": "2024-02-18T07:23:05.451225",
     "exception": false,
     "start_time": "2024-02-18T07:23:04.859875",
     "status": "completed"
    },
    "tags": []
   },
   "source": [
    "seems good :)"
   ]
  }
 ],
 "metadata": {
  "kaggle": {
   "accelerator": "gpu",
   "dataSources": [
    {
     "datasetId": 786787,
     "sourceId": 1351797,
     "sourceType": "datasetVersion"
    }
   ],
   "dockerImageVersionId": 30648,
   "isGpuEnabled": true,
   "isInternetEnabled": true,
   "language": "python",
   "sourceType": "notebook"
  },
  "kernelspec": {
   "display_name": "Python 3",
   "language": "python",
   "name": "python3"
  },
  "language_info": {
   "codemirror_mode": {
    "name": "ipython",
    "version": 3
   },
   "file_extension": ".py",
   "mimetype": "text/x-python",
   "name": "python",
   "nbconvert_exporter": "python",
   "pygments_lexer": "ipython3",
   "version": "3.10.13"
  },
  "papermill": {
   "default_parameters": {},
   "duration": 1226.759448,
   "end_time": "2024-02-18T07:23:08.439404",
   "environment_variables": {},
   "exception": null,
   "input_path": "__notebook__.ipynb",
   "output_path": "__notebook__.ipynb",
   "parameters": {},
   "start_time": "2024-02-18T07:02:41.679956",
   "version": "2.5.0"
  }
 },
 "nbformat": 4,
 "nbformat_minor": 5
}
